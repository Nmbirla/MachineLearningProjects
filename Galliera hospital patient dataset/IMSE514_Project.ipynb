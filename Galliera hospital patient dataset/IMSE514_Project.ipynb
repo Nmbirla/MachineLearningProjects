{
 "cells": [
  {
   "cell_type": "code",
   "execution_count": 1,
   "metadata": {},
   "outputs": [
    {
     "name": "stderr",
     "output_type": "stream",
     "text": [
      "Using TensorFlow backend.\n"
     ]
    }
   ],
   "source": [
    "# Import Libraries\n",
    "\n",
    "import tensorflow as tf\n",
    "import pandas as pd\n",
    "import numpy as np\n",
    "import matplotlib.pyplot as plt\n",
    "from keras import backend as K\n",
    "from keras import Model,Sequential,layers,activations\n",
    "from keras.layers import Dense,BatchNormalization,LeakyReLU,Dropout\n",
    "from sklearn.model_selection import train_test_split\n",
    "from datetime import datetime\n",
    "from keras import callbacks\n",
    "from sklearn import metrics"
   ]
  },
  {
   "cell_type": "code",
   "execution_count": 22,
   "metadata": {},
   "outputs": [
    {
     "data": {
      "text/plain": [
       "0        0.681818\n",
       "1        0.818182\n",
       "2        0.681818\n",
       "3        0.045455\n",
       "4        0.954545\n",
       "           ...   \n",
       "10175    0.818182\n",
       "10176    0.272727\n",
       "10177    0.727273\n",
       "10178    0.863636\n",
       "10179    0.090909\n",
       "Name: ICD1, Length: 10180, dtype: float64"
      ]
     },
     "execution_count": 22,
     "metadata": {},
     "output_type": "execute_result"
    }
   ],
   "source": [
    "# Read Data\n",
    "data=pd.read_csv(r'D:\\Mayurs\\UM-Dearborn\\Subjects\\IMSE 514\\Project\\PreProcessedData_std_1.csv')\n",
    "y=data.pop('BCResponse')\n",
    "X=data\n",
    "\n",
    "#Remove ICD1\n",
    "X.pop('ICD1') "
   ]
  },
  {
   "cell_type": "code",
   "execution_count": 23,
   "metadata": {},
   "outputs": [],
   "source": [
    "# COnvert Data to Categories for discrete variables\n",
    "\n",
    "for col in ['ICD2','surgeon1','surgeon2','anestethist','scrubNurse']:\n",
    "    X[col] = X[col].astype('category')"
   ]
  },
  {
   "cell_type": "code",
   "execution_count": 24,
   "metadata": {},
   "outputs": [],
   "source": [
    "#Split Data into Train and Test sets\n",
    "\n",
    "X_train,X_test,y_train,y_test=train_test_split(X,y,test_size=0.2,random_state=42)"
   ]
  },
  {
   "cell_type": "code",
   "execution_count": 63,
   "metadata": {},
   "outputs": [],
   "source": [
    "# Write to TensorBoard\n",
    "logdir = r\"C:\\Users\\mayur\\Desktop\\imse_514_project\\logs\\scalars\\\\\" + datetime.now().strftime(\"%Y%m%d-%H%M%S\")\n",
    "tensorboard_callback = callbacks.TensorBoard(log_dir=logdir)\n",
    "\n",
    "#Define Model\n",
    "model1=Sequential()\n",
    "\n",
    "model1.add(Dense(64,activation='relu',input_shape=(11,)))\n",
    "model1.add(BatchNormalization())\n",
    "\n",
    "model1.add(Dense(16,activation='relu',input_shape=(11,)))\n",
    "model1.add(BatchNormalization())\n",
    "\n",
    "model1.add(Dense(10,activation='relu',input_shape=(11,)))\n",
    "model1.add(BatchNormalization())\n",
    "\n",
    "model1.add(Dense(1))"
   ]
  },
  {
   "cell_type": "code",
   "execution_count": 64,
   "metadata": {},
   "outputs": [
    {
     "name": "stdout",
     "output_type": "stream",
     "text": [
      "_________________________________________________________________\n",
      "Layer (type)                 Output Shape              Param #   \n",
      "=================================================================\n",
      "dense_5 (Dense)              (None, 64)                768       \n",
      "_________________________________________________________________\n",
      "batch_normalization_4 (Batch (None, 64)                256       \n",
      "_________________________________________________________________\n",
      "dense_6 (Dense)              (None, 16)                1040      \n",
      "_________________________________________________________________\n",
      "batch_normalization_5 (Batch (None, 16)                64        \n",
      "_________________________________________________________________\n",
      "dense_7 (Dense)              (None, 10)                170       \n",
      "_________________________________________________________________\n",
      "batch_normalization_6 (Batch (None, 10)                40        \n",
      "_________________________________________________________________\n",
      "dense_8 (Dense)              (None, 1)                 11        \n",
      "=================================================================\n",
      "Total params: 2,349\n",
      "Trainable params: 2,169\n",
      "Non-trainable params: 180\n",
      "_________________________________________________________________\n"
     ]
    }
   ],
   "source": [
    "# check model and number of parameters. Parameters hosuld be less than 50% of train set\n",
    "model1.summary()"
   ]
  },
  {
   "cell_type": "code",
   "execution_count": 65,
   "metadata": {},
   "outputs": [],
   "source": [
    "#compile model\n",
    "\n",
    "model1.compile(optimizer='adam',loss='mse',metrics=['mae'])"
   ]
  },
  {
   "cell_type": "code",
   "execution_count": 66,
   "metadata": {
    "scrolled": true
   },
   "outputs": [
    {
     "name": "stdout",
     "output_type": "stream",
     "text": [
      "Train on 6515 samples, validate on 1629 samples\n",
      "Epoch 1/100\n",
      "6515/6515 [==============================] - 1s 192us/step - loss: 112.2799 - mean_absolute_error: 10.5002 - val_loss: 94.5529 - val_mean_absolute_error: 9.6873\n",
      "Epoch 2/100\n",
      "6515/6515 [==============================] - 0s 42us/step - loss: 90.2179 - mean_absolute_error: 9.4505 - val_loss: 81.6707 - val_mean_absolute_error: 9.0149\n",
      "Epoch 3/100\n",
      "6515/6515 [==============================] - 0s 41us/step - loss: 61.5096 - mean_absolute_error: 7.7869 - val_loss: 52.4651 - val_mean_absolute_error: 7.2018\n",
      "Epoch 4/100\n",
      "6515/6515 [==============================] - 0s 41us/step - loss: 33.4279 - mean_absolute_error: 5.6938 - val_loss: 21.4263 - val_mean_absolute_error: 4.6109\n",
      "Epoch 5/100\n",
      "6515/6515 [==============================] - 0s 41us/step - loss: 13.8641 - mean_absolute_error: 3.6072 - val_loss: 7.8900 - val_mean_absolute_error: 2.6977\n",
      "Epoch 6/100\n",
      "6515/6515 [==============================] - 0s 47us/step - loss: 4.3917 - mean_absolute_error: 1.9284 - val_loss: 2.3637 - val_mean_absolute_error: 1.2827\n",
      "Epoch 7/100\n",
      "6515/6515 [==============================] - 0s 48us/step - loss: 1.2168 - mean_absolute_error: 0.9471 - val_loss: 0.9702 - val_mean_absolute_error: 0.7645\n",
      "Epoch 8/100\n",
      "6515/6515 [==============================] - 0s 45us/step - loss: 0.5344 - mean_absolute_error: 0.5789 - val_loss: 0.2463 - val_mean_absolute_error: 0.3013\n",
      "Epoch 9/100\n",
      "6515/6515 [==============================] - 0s 48us/step - loss: 0.4306 - mean_absolute_error: 0.5126 - val_loss: 0.1857 - val_mean_absolute_error: 0.2630\n",
      "Epoch 10/100\n",
      "6515/6515 [==============================] - 0s 43us/step - loss: 0.3833 - mean_absolute_error: 0.4780 - val_loss: 0.3141 - val_mean_absolute_error: 0.3461\n",
      "Epoch 11/100\n",
      "6515/6515 [==============================] - 0s 43us/step - loss: 0.3537 - mean_absolute_error: 0.4610 - val_loss: 0.3757 - val_mean_absolute_error: 0.3850\n",
      "Epoch 12/100\n",
      "6515/6515 [==============================] - 0s 43us/step - loss: 0.4163 - mean_absolute_error: 0.5005 - val_loss: 0.4095 - val_mean_absolute_error: 0.4244\n",
      "Epoch 13/100\n",
      "6515/6515 [==============================] - 0s 41us/step - loss: 0.4129 - mean_absolute_error: 0.5116 - val_loss: 0.1524 - val_mean_absolute_error: 0.1912\n",
      "Epoch 14/100\n",
      "6515/6515 [==============================] - 0s 43us/step - loss: 0.3929 - mean_absolute_error: 0.4925 - val_loss: 0.1143 - val_mean_absolute_error: 0.2001\n",
      "Epoch 15/100\n",
      "6515/6515 [==============================] - 0s 46us/step - loss: 0.4681 - mean_absolute_error: 0.5414 - val_loss: 0.1709 - val_mean_absolute_error: 0.2423\n",
      "Epoch 16/100\n",
      "6515/6515 [==============================] - 0s 47us/step - loss: 0.3965 - mean_absolute_error: 0.4898 - val_loss: 0.1511 - val_mean_absolute_error: 0.2151\n",
      "Epoch 17/100\n",
      "6515/6515 [==============================] - 0s 43us/step - loss: 0.3590 - mean_absolute_error: 0.4686 - val_loss: 0.1424 - val_mean_absolute_error: 0.1745\n",
      "Epoch 18/100\n",
      "6515/6515 [==============================] - 0s 42us/step - loss: 0.4496 - mean_absolute_error: 0.5229 - val_loss: 0.1517 - val_mean_absolute_error: 0.2393\n",
      "Epoch 19/100\n",
      "6515/6515 [==============================] - 0s 45us/step - loss: 0.4016 - mean_absolute_error: 0.4961 - val_loss: 0.1488 - val_mean_absolute_error: 0.2617\n",
      "Epoch 20/100\n",
      "6515/6515 [==============================] - 0s 67us/step - loss: 0.3546 - mean_absolute_error: 0.4683 - val_loss: 0.1198 - val_mean_absolute_error: 0.2083\n",
      "Epoch 21/100\n",
      "6515/6515 [==============================] - 0s 42us/step - loss: 0.4153 - mean_absolute_error: 0.5150 - val_loss: 0.0835 - val_mean_absolute_error: 0.1283\n",
      "Epoch 22/100\n",
      "6515/6515 [==============================] - 0s 48us/step - loss: 0.4200 - mean_absolute_error: 0.5081 - val_loss: 0.1295 - val_mean_absolute_error: 0.2210\n",
      "Epoch 23/100\n",
      "6515/6515 [==============================] - 0s 45us/step - loss: 0.3650 - mean_absolute_error: 0.4719 - val_loss: 0.0663 - val_mean_absolute_error: 0.1407\n",
      "Epoch 24/100\n",
      "6515/6515 [==============================] - 0s 41us/step - loss: 0.3821 - mean_absolute_error: 0.4781 - val_loss: 0.0878 - val_mean_absolute_error: 0.1797\n",
      "Epoch 25/100\n",
      "6515/6515 [==============================] - 0s 41us/step - loss: 0.4357 - mean_absolute_error: 0.5179 - val_loss: 0.1202 - val_mean_absolute_error: 0.1703\n",
      "Epoch 26/100\n",
      "6515/6515 [==============================] - 0s 43us/step - loss: 0.3992 - mean_absolute_error: 0.4999 - val_loss: 0.1262 - val_mean_absolute_error: 0.2448\n",
      "Epoch 27/100\n",
      "6515/6515 [==============================] - 0s 43us/step - loss: 0.3937 - mean_absolute_error: 0.4917 - val_loss: 0.0766 - val_mean_absolute_error: 0.1610\n",
      "Epoch 28/100\n",
      "6515/6515 [==============================] - 0s 45us/step - loss: 0.3808 - mean_absolute_error: 0.4786 - val_loss: 0.1265 - val_mean_absolute_error: 0.2384\n",
      "Epoch 29/100\n",
      "6515/6515 [==============================] - 0s 44us/step - loss: 0.3586 - mean_absolute_error: 0.4679 - val_loss: 0.1780 - val_mean_absolute_error: 0.2050\n",
      "Epoch 30/100\n",
      "6515/6515 [==============================] - 0s 42us/step - loss: 0.3972 - mean_absolute_error: 0.4872 - val_loss: 0.0995 - val_mean_absolute_error: 0.1860\n",
      "Epoch 31/100\n",
      "6515/6515 [==============================] - 0s 43us/step - loss: 0.4202 - mean_absolute_error: 0.5150 - val_loss: 0.1588 - val_mean_absolute_error: 0.3064\n",
      "Epoch 32/100\n",
      "6515/6515 [==============================] - 0s 42us/step - loss: 0.3801 - mean_absolute_error: 0.4868 - val_loss: 0.1008 - val_mean_absolute_error: 0.2219\n",
      "Epoch 33/100\n",
      "6515/6515 [==============================] - 0s 43us/step - loss: 0.3554 - mean_absolute_error: 0.4622 - val_loss: 0.3787 - val_mean_absolute_error: 0.3872\n",
      "Epoch 34/100\n",
      "6515/6515 [==============================] - 0s 43us/step - loss: 0.3924 - mean_absolute_error: 0.4833 - val_loss: 0.0698 - val_mean_absolute_error: 0.1712\n",
      "Epoch 35/100\n",
      "6515/6515 [==============================] - 0s 42us/step - loss: 0.3753 - mean_absolute_error: 0.4999 - val_loss: 0.0912 - val_mean_absolute_error: 0.1638\n",
      "Epoch 36/100\n",
      "6515/6515 [==============================] - 0s 42us/step - loss: 0.3476 - mean_absolute_error: 0.4696 - val_loss: 0.0849 - val_mean_absolute_error: 0.1597\n",
      "Epoch 37/100\n",
      "6515/6515 [==============================] - 0s 43us/step - loss: 0.3883 - mean_absolute_error: 0.5087 - val_loss: 0.3096 - val_mean_absolute_error: 0.3226\n",
      "Epoch 38/100\n",
      "6515/6515 [==============================] - 0s 44us/step - loss: 0.4247 - mean_absolute_error: 0.5177 - val_loss: 0.3129 - val_mean_absolute_error: 0.3825\n",
      "Epoch 39/100\n",
      "6515/6515 [==============================] - 0s 42us/step - loss: 0.3702 - mean_absolute_error: 0.4770 - val_loss: 0.1360 - val_mean_absolute_error: 0.2556\n",
      "Epoch 40/100\n",
      "6515/6515 [==============================] - 0s 43us/step - loss: 0.3748 - mean_absolute_error: 0.4816 - val_loss: 0.1012 - val_mean_absolute_error: 0.2170\n",
      "Epoch 41/100\n",
      "6515/6515 [==============================] - 0s 40us/step - loss: 0.3242 - mean_absolute_error: 0.4612 - val_loss: 0.0687 - val_mean_absolute_error: 0.1809\n",
      "Epoch 42/100\n",
      "6515/6515 [==============================] - 0s 43us/step - loss: 0.4079 - mean_absolute_error: 0.5087 - val_loss: 0.0729 - val_mean_absolute_error: 0.1703\n",
      "Epoch 43/100\n",
      "6515/6515 [==============================] - 0s 41us/step - loss: 0.3457 - mean_absolute_error: 0.4586 - val_loss: 0.0736 - val_mean_absolute_error: 0.1574\n",
      "Epoch 44/100\n",
      "6515/6515 [==============================] - 0s 43us/step - loss: 0.4674 - mean_absolute_error: 0.5576 - val_loss: 0.0760 - val_mean_absolute_error: 0.1803\n",
      "Epoch 45/100\n",
      "6515/6515 [==============================] - 0s 46us/step - loss: 0.3523 - mean_absolute_error: 0.4587 - val_loss: 0.0882 - val_mean_absolute_error: 0.1725\n",
      "Epoch 46/100\n",
      "6515/6515 [==============================] - 0s 41us/step - loss: 0.3256 - mean_absolute_error: 0.4581 - val_loss: 0.0738 - val_mean_absolute_error: 0.1816\n",
      "Epoch 47/100\n",
      "6515/6515 [==============================] - 0s 42us/step - loss: 0.3903 - mean_absolute_error: 0.5013 - val_loss: 0.0403 - val_mean_absolute_error: 0.1097\n",
      "Epoch 48/100\n",
      "6515/6515 [==============================] - 0s 42us/step - loss: 0.3871 - mean_absolute_error: 0.4872 - val_loss: 0.0636 - val_mean_absolute_error: 0.1729\n",
      "Epoch 49/100\n"
     ]
    },
    {
     "name": "stdout",
     "output_type": "stream",
     "text": [
      "6515/6515 [==============================] - 0s 43us/step - loss: 0.3126 - mean_absolute_error: 0.4506 - val_loss: 0.0638 - val_mean_absolute_error: 0.1654\n",
      "Epoch 50/100\n",
      "6515/6515 [==============================] - 0s 41us/step - loss: 0.3626 - mean_absolute_error: 0.4729 - val_loss: 0.0617 - val_mean_absolute_error: 0.1670\n",
      "Epoch 51/100\n",
      "6515/6515 [==============================] - 0s 41us/step - loss: 0.3289 - mean_absolute_error: 0.4595 - val_loss: 0.1316 - val_mean_absolute_error: 0.2392\n",
      "Epoch 52/100\n",
      "6515/6515 [==============================] - 0s 42us/step - loss: 0.3747 - mean_absolute_error: 0.4740 - val_loss: 0.0599 - val_mean_absolute_error: 0.1690\n",
      "Epoch 53/100\n",
      "6515/6515 [==============================] - 0s 41us/step - loss: 0.3857 - mean_absolute_error: 0.4797 - val_loss: 0.1040 - val_mean_absolute_error: 0.2247\n",
      "Epoch 54/100\n",
      "6515/6515 [==============================] - 0s 44us/step - loss: 0.3489 - mean_absolute_error: 0.4540 - val_loss: 0.0957 - val_mean_absolute_error: 0.2160\n",
      "Epoch 55/100\n",
      "6515/6515 [==============================] - 0s 40us/step - loss: 0.3196 - mean_absolute_error: 0.4504 - val_loss: 0.0302 - val_mean_absolute_error: 0.1202\n",
      "Epoch 56/100\n",
      "6515/6515 [==============================] - 0s 44us/step - loss: 0.2861 - mean_absolute_error: 0.4220 - val_loss: 0.0563 - val_mean_absolute_error: 0.1447\n",
      "Epoch 57/100\n",
      "6515/6515 [==============================] - 0s 41us/step - loss: 0.3109 - mean_absolute_error: 0.4391 - val_loss: 0.0940 - val_mean_absolute_error: 0.2431\n",
      "Epoch 58/100\n",
      "6515/6515 [==============================] - 0s 43us/step - loss: 0.3437 - mean_absolute_error: 0.4697 - val_loss: 0.0627 - val_mean_absolute_error: 0.1674\n",
      "Epoch 59/100\n",
      "6515/6515 [==============================] - 0s 42us/step - loss: 0.2688 - mean_absolute_error: 0.4137 - val_loss: 0.1908 - val_mean_absolute_error: 0.3754\n",
      "Epoch 60/100\n",
      "6515/6515 [==============================] - 0s 42us/step - loss: 0.4028 - mean_absolute_error: 0.4892 - val_loss: 0.1041 - val_mean_absolute_error: 0.2160\n",
      "Epoch 61/100\n",
      "6515/6515 [==============================] - 0s 45us/step - loss: 0.3305 - mean_absolute_error: 0.4630 - val_loss: 0.1110 - val_mean_absolute_error: 0.2165\n",
      "Epoch 62/100\n",
      "6515/6515 [==============================] - 0s 42us/step - loss: 0.3668 - mean_absolute_error: 0.4634 - val_loss: 0.0518 - val_mean_absolute_error: 0.1644\n",
      "Epoch 63/100\n",
      "6515/6515 [==============================] - 0s 42us/step - loss: 0.3073 - mean_absolute_error: 0.4349 - val_loss: 0.0712 - val_mean_absolute_error: 0.1829\n",
      "Epoch 64/100\n",
      "6515/6515 [==============================] - 0s 44us/step - loss: 0.3759 - mean_absolute_error: 0.4999 - val_loss: 0.0544 - val_mean_absolute_error: 0.1284\n",
      "Epoch 65/100\n",
      "6515/6515 [==============================] - 0s 42us/step - loss: 0.3540 - mean_absolute_error: 0.4750 - val_loss: 0.0898 - val_mean_absolute_error: 0.1937\n",
      "Epoch 66/100\n",
      "6515/6515 [==============================] - 0s 42us/step - loss: 0.3084 - mean_absolute_error: 0.4555 - val_loss: 0.0966 - val_mean_absolute_error: 0.2149\n",
      "Epoch 67/100\n",
      "6515/6515 [==============================] - 0s 43us/step - loss: 0.3840 - mean_absolute_error: 0.4893 - val_loss: 0.0428 - val_mean_absolute_error: 0.1154\n",
      "Epoch 68/100\n",
      "6515/6515 [==============================] - 0s 43us/step - loss: 0.3607 - mean_absolute_error: 0.4679 - val_loss: 0.0367 - val_mean_absolute_error: 0.1300\n",
      "Epoch 69/100\n",
      "6515/6515 [==============================] - 0s 42us/step - loss: 0.3420 - mean_absolute_error: 0.4598 - val_loss: 0.0508 - val_mean_absolute_error: 0.1502\n",
      "Epoch 70/100\n",
      "6515/6515 [==============================] - 0s 43us/step - loss: 0.3442 - mean_absolute_error: 0.4561 - val_loss: 0.0867 - val_mean_absolute_error: 0.1904\n",
      "Epoch 71/100\n",
      "6515/6515 [==============================] - 0s 48us/step - loss: 0.3873 - mean_absolute_error: 0.4834 - val_loss: 0.0938 - val_mean_absolute_error: 0.2400\n",
      "Epoch 72/100\n",
      "6515/6515 [==============================] - 0s 52us/step - loss: 0.2833 - mean_absolute_error: 0.4209 - val_loss: 0.0612 - val_mean_absolute_error: 0.1513\n",
      "Epoch 73/100\n",
      "6515/6515 [==============================] - 0s 46us/step - loss: 0.3650 - mean_absolute_error: 0.4652 - val_loss: 0.2850 - val_mean_absolute_error: 0.3626\n",
      "Epoch 74/100\n",
      "6515/6515 [==============================] - 0s 41us/step - loss: 0.3070 - mean_absolute_error: 0.4412 - val_loss: 0.0550 - val_mean_absolute_error: 0.1611\n",
      "Epoch 75/100\n",
      "6515/6515 [==============================] - 1s 93us/step - loss: 0.3259 - mean_absolute_error: 0.4579 - val_loss: 0.0582 - val_mean_absolute_error: 0.1587\n",
      "Epoch 76/100\n",
      "6515/6515 [==============================] - 0s 64us/step - loss: 0.3698 - mean_absolute_error: 0.4798 - val_loss: 0.2035 - val_mean_absolute_error: 0.3174\n",
      "Epoch 77/100\n",
      "6515/6515 [==============================] - 0s 43us/step - loss: 0.3460 - mean_absolute_error: 0.4649 - val_loss: 0.2818 - val_mean_absolute_error: 0.4024\n",
      "Epoch 78/100\n",
      "6515/6515 [==============================] - 0s 42us/step - loss: 0.3688 - mean_absolute_error: 0.4814 - val_loss: 0.0591 - val_mean_absolute_error: 0.1491\n",
      "Epoch 79/100\n",
      "6515/6515 [==============================] - 0s 44us/step - loss: 0.3180 - mean_absolute_error: 0.4544 - val_loss: 0.0509 - val_mean_absolute_error: 0.1239\n",
      "Epoch 80/100\n",
      "6515/6515 [==============================] - 0s 45us/step - loss: 0.4422 - mean_absolute_error: 0.5341 - val_loss: 0.1128 - val_mean_absolute_error: 0.2408\n",
      "Epoch 81/100\n",
      "6515/6515 [==============================] - 0s 42us/step - loss: 0.3991 - mean_absolute_error: 0.5020 - val_loss: 0.1148 - val_mean_absolute_error: 0.2533\n",
      "Epoch 82/100\n",
      "6515/6515 [==============================] - 0s 41us/step - loss: 0.3790 - mean_absolute_error: 0.4993 - val_loss: 0.0735 - val_mean_absolute_error: 0.2000\n",
      "Epoch 83/100\n",
      "6515/6515 [==============================] - 0s 44us/step - loss: 0.3354 - mean_absolute_error: 0.4593 - val_loss: 0.0615 - val_mean_absolute_error: 0.1649\n",
      "Epoch 84/100\n",
      "6515/6515 [==============================] - 0s 43us/step - loss: 0.3332 - mean_absolute_error: 0.4607 - val_loss: 0.1123 - val_mean_absolute_error: 0.2436\n",
      "Epoch 85/100\n",
      "6515/6515 [==============================] - 0s 42us/step - loss: 0.3944 - mean_absolute_error: 0.4898 - val_loss: 0.1190 - val_mean_absolute_error: 0.2545\n",
      "Epoch 86/100\n",
      "6515/6515 [==============================] - 0s 45us/step - loss: 0.4002 - mean_absolute_error: 0.5022 - val_loss: 0.0912 - val_mean_absolute_error: 0.2533\n",
      "Epoch 87/100\n",
      "6515/6515 [==============================] - 0s 44us/step - loss: 0.4120 - mean_absolute_error: 0.4979 - val_loss: 0.1097 - val_mean_absolute_error: 0.2149\n",
      "Epoch 88/100\n",
      "6515/6515 [==============================] - 0s 42us/step - loss: 0.3203 - mean_absolute_error: 0.4469 - val_loss: 0.1592 - val_mean_absolute_error: 0.2803\n",
      "Epoch 89/100\n",
      "6515/6515 [==============================] - 0s 44us/step - loss: 0.3336 - mean_absolute_error: 0.4654 - val_loss: 0.0656 - val_mean_absolute_error: 0.1734\n",
      "Epoch 90/100\n",
      "6515/6515 [==============================] - 0s 44us/step - loss: 0.3022 - mean_absolute_error: 0.4369 - val_loss: 0.0735 - val_mean_absolute_error: 0.1871\n",
      "Epoch 91/100\n",
      "6515/6515 [==============================] - 0s 45us/step - loss: 0.3947 - mean_absolute_error: 0.4997 - val_loss: 0.1123 - val_mean_absolute_error: 0.2169\n",
      "Epoch 92/100\n",
      "6515/6515 [==============================] - 0s 42us/step - loss: 0.3829 - mean_absolute_error: 0.4962 - val_loss: 0.0528 - val_mean_absolute_error: 0.1792\n",
      "Epoch 93/100\n",
      "6515/6515 [==============================] - 0s 43us/step - loss: 0.3235 - mean_absolute_error: 0.4508 - val_loss: 0.1816 - val_mean_absolute_error: 0.3124\n",
      "Epoch 94/100\n",
      "6515/6515 [==============================] - 0s 42us/step - loss: 0.3873 - mean_absolute_error: 0.4961 - val_loss: 0.1665 - val_mean_absolute_error: 0.3132\n",
      "Epoch 95/100\n",
      "6515/6515 [==============================] - 0s 45us/step - loss: 0.3371 - mean_absolute_error: 0.4590 - val_loss: 0.0655 - val_mean_absolute_error: 0.1833\n",
      "Epoch 96/100\n",
      "6515/6515 [==============================] - 0s 43us/step - loss: 0.4475 - mean_absolute_error: 0.5488 - val_loss: 0.1055 - val_mean_absolute_error: 0.2165\n",
      "Epoch 97/100\n"
     ]
    },
    {
     "name": "stdout",
     "output_type": "stream",
     "text": [
      "6515/6515 [==============================] - 0s 45us/step - loss: 0.3223 - mean_absolute_error: 0.4478 - val_loss: 0.1336 - val_mean_absolute_error: 0.2496\n",
      "Epoch 98/100\n",
      "6515/6515 [==============================] - 0s 42us/step - loss: 0.3494 - mean_absolute_error: 0.4725 - val_loss: 0.1199 - val_mean_absolute_error: 0.2539\n",
      "Epoch 99/100\n",
      "6515/6515 [==============================] - 0s 43us/step - loss: 0.3016 - mean_absolute_error: 0.4446 - val_loss: 0.0925 - val_mean_absolute_error: 0.2453\n",
      "Epoch 100/100\n",
      "6515/6515 [==============================] - 0s 44us/step - loss: 0.3470 - mean_absolute_error: 0.4786 - val_loss: 0.0610 - val_mean_absolute_error: 0.1749\n"
     ]
    },
    {
     "data": {
      "text/plain": [
       "<keras.callbacks.History at 0x212330ddd48>"
      ]
     },
     "execution_count": 66,
     "metadata": {},
     "output_type": "execute_result"
    }
   ],
   "source": [
    "#Fit model \n",
    "model1.fit(X_train,y_train,epochs=100,batch_size=50,validation_split=0.2,callbacks=[tensorboard_callback])"
   ]
  },
  {
   "cell_type": "code",
   "execution_count": 67,
   "metadata": {
    "scrolled": true
   },
   "outputs": [
    {
     "name": "stdout",
     "output_type": "stream",
     "text": [
      "MSE=0.06203246993069447 and MAE =0.17549182943019043\n"
     ]
    }
   ],
   "source": [
    "#Evaluate Model on Test Data\n",
    "mse,mae=model1.evaluate(X_test,y_test,verbose=False)\n",
    "print(f\"MSE={mse} and MAE ={mae}\")"
   ]
  },
  {
   "cell_type": "markdown",
   "metadata": {},
   "source": [
    "tensorboard --logdir=logs/scalar --host localhost"
   ]
  },
  {
   "cell_type": "code",
   "execution_count": 68,
   "metadata": {},
   "outputs": [],
   "source": [
    "#Save predictions on Test Data\n",
    "\n",
    "results=model1.predict(X_test)\n",
    "y_test=np.array(y_test)"
   ]
  },
  {
   "cell_type": "code",
   "execution_count": 69,
   "metadata": {},
   "outputs": [
    {
     "name": "stdout",
     "output_type": "stream",
     "text": [
      "R-squared = 0.993760914878027\n",
      " MAE = 1.616919331570498\n",
      " MSE = 10.036420189544328\n"
     ]
    }
   ],
   "source": [
    "# Convert back to original space from box cox\n",
    "\n",
    "trans_results=((results*0.43)+1)**(1/0.43)\n",
    "trans_y_test=((y_test*0.43)+1)**(1/0.43)\n",
    "\n",
    "# write data frame\n",
    "compiled_results=pd.DataFrame(columns=['y_test','results'])\n",
    "compiled_results['y_test']=trans_y_test\n",
    "compiled_results['results']=trans_results\n",
    "\n",
    "#Find null values and replace them by zeroes\n",
    "\n",
    "index=np.argwhere(np.isnan(trans_results))\n",
    "for value in index:\n",
    "    indices=value[0]\n",
    "    trans_results[indices]=0\n",
    "    trans_y_test[indices]=0\n",
    "    \n",
    "#Write results\n",
    "\n",
    "r2=metrics.r2_score(trans_y_test,trans_results)\n",
    "mae=metrics.mean_absolute_error(trans_y_test,trans_results)\n",
    "mse=metrics.mean_squared_error(trans_y_test,trans_results)\n",
    "print(f\"R-squared = {r2}\\n MAE = {mae}\\n MSE = {mse}\")"
   ]
  },
  {
   "cell_type": "code",
   "execution_count": 70,
   "metadata": {},
   "outputs": [
    {
     "data": {
      "text/html": [
       "<div>\n",
       "<style scoped>\n",
       "    .dataframe tbody tr th:only-of-type {\n",
       "        vertical-align: middle;\n",
       "    }\n",
       "\n",
       "    .dataframe tbody tr th {\n",
       "        vertical-align: top;\n",
       "    }\n",
       "\n",
       "    .dataframe thead th {\n",
       "        text-align: right;\n",
       "    }\n",
       "</style>\n",
       "<table border=\"1\" class=\"dataframe\">\n",
       "  <thead>\n",
       "    <tr style=\"text-align: right;\">\n",
       "      <th></th>\n",
       "      <th>y_test</th>\n",
       "      <th>results</th>\n",
       "    </tr>\n",
       "  </thead>\n",
       "  <tbody>\n",
       "    <tr>\n",
       "      <td>0</td>\n",
       "      <td>105.0</td>\n",
       "      <td>101.927345</td>\n",
       "    </tr>\n",
       "    <tr>\n",
       "      <td>1</td>\n",
       "      <td>40.0</td>\n",
       "      <td>40.584927</td>\n",
       "    </tr>\n",
       "    <tr>\n",
       "      <td>2</td>\n",
       "      <td>110.0</td>\n",
       "      <td>107.076424</td>\n",
       "    </tr>\n",
       "    <tr>\n",
       "      <td>3</td>\n",
       "      <td>50.0</td>\n",
       "      <td>48.770260</td>\n",
       "    </tr>\n",
       "    <tr>\n",
       "      <td>4</td>\n",
       "      <td>21.0</td>\n",
       "      <td>22.730080</td>\n",
       "    </tr>\n",
       "    <tr>\n",
       "      <td>...</td>\n",
       "      <td>...</td>\n",
       "      <td>...</td>\n",
       "    </tr>\n",
       "    <tr>\n",
       "      <td>2031</td>\n",
       "      <td>51.0</td>\n",
       "      <td>49.562195</td>\n",
       "    </tr>\n",
       "    <tr>\n",
       "      <td>2032</td>\n",
       "      <td>246.0</td>\n",
       "      <td>244.356293</td>\n",
       "    </tr>\n",
       "    <tr>\n",
       "      <td>2033</td>\n",
       "      <td>105.0</td>\n",
       "      <td>102.170578</td>\n",
       "    </tr>\n",
       "    <tr>\n",
       "      <td>2034</td>\n",
       "      <td>31.0</td>\n",
       "      <td>32.140343</td>\n",
       "    </tr>\n",
       "    <tr>\n",
       "      <td>2035</td>\n",
       "      <td>90.0</td>\n",
       "      <td>87.824104</td>\n",
       "    </tr>\n",
       "  </tbody>\n",
       "</table>\n",
       "<p>2036 rows × 2 columns</p>\n",
       "</div>"
      ],
      "text/plain": [
       "      y_test     results\n",
       "0      105.0  101.927345\n",
       "1       40.0   40.584927\n",
       "2      110.0  107.076424\n",
       "3       50.0   48.770260\n",
       "4       21.0   22.730080\n",
       "...      ...         ...\n",
       "2031    51.0   49.562195\n",
       "2032   246.0  244.356293\n",
       "2033   105.0  102.170578\n",
       "2034    31.0   32.140343\n",
       "2035    90.0   87.824104\n",
       "\n",
       "[2036 rows x 2 columns]"
      ]
     },
     "execution_count": 70,
     "metadata": {},
     "output_type": "execute_result"
    }
   ],
   "source": [
    "#Show results\n",
    "compiled_results"
   ]
  },
  {
   "cell_type": "code",
   "execution_count": 71,
   "metadata": {
    "scrolled": true
   },
   "outputs": [
    {
     "name": "stdout",
     "output_type": "stream",
     "text": [
      "\n",
      " 25%ile of abs errors is 0.55710317246713\n",
      "\n",
      " 50%ile of abs errors is 1.239650731736166\n",
      "\n",
      " 75%ile of abs errors is 2.144885542748195\n",
      "\n",
      " 90% of abs errors is between 0.12276652990149017 and 3.1072292526865404\n",
      "\n",
      " 90% of errors is between -2.239794493027844 and 3.063694068754984\n"
     ]
    }
   ],
   "source": [
    "# Descriptive Staistics\n",
    "\n",
    "compiled_results['abs_error']=abs(compiled_results['y_test']-compiled_results['results'])\n",
    "compiled_results['error']=(compiled_results['y_test']-compiled_results['results'])\n",
    "error=compiled_results['error']\n",
    "abs_error=compiled_results['abs_error']\n",
    "\n",
    "error=np.nan_to_num(error,0)\n",
    "abs_error=np.nan_to_num(abs_error,0)\n",
    "\n",
    "abs_error=np.sort(abs_error)\n",
    "for pc in [25,50,75]:\n",
    "    print(f'\\n {pc}%ile of abs errors is {np.percentile(abs_error,pc)}')\n",
    "    \n",
    "print(f'\\n 90% of abs errors is between {np.percentile(abs_error,5)} and {np.percentile(abs_error,95)}')\n",
    "print(f'\\n 90% of errors is between {np.percentile(error,5)} and {np.percentile(error,95)}')"
   ]
  },
  {
   "cell_type": "code",
   "execution_count": 72,
   "metadata": {},
   "outputs": [
    {
     "data": {
      "image/png": "[encoded data removed]",
      "text/plain": [
       "<Figure size 432x288 with 1 Axes>"
      ]
     },
     "metadata": {
      "needs_background": "light"
     },
     "output_type": "display_data"
    },
    {
     "data": {
      "image/png": "[encoded data removed]",
      "text/plain": [
       "<Figure size 432x288 with 1 Axes>"
      ]
     },
     "metadata": {
      "needs_background": "light"
     },
     "output_type": "display_data"
    },
    {
     "data": {
      "image/png": "[encoded data removed]",
      "text/plain": [
       "<Figure size 432x288 with 1 Axes>"
      ]
     },
     "metadata": {
      "needs_background": "light"
     },
     "output_type": "display_data"
    }
   ],
   "source": [
    "#Display Plots\n",
    "plt.hist(error,bins='auto',range=(-5,15))\n",
    "plt.show()\n",
    "\n",
    "plt.boxplot(error)\n",
    "plt.show()\n",
    "\n",
    "\n",
    "index=compiled_results.index\n",
    "\n",
    "plt.scatter(index,error,c=trans_y_test)\n",
    "plt.show()"
   ]
  },
  {
   "cell_type": "code",
   "execution_count": 73,
   "metadata": {},
   "outputs": [
    {
     "name": "stdout",
     "output_type": "stream",
     "text": [
      "Difference between means=0.38605508229909447\n"
     ]
    }
   ],
   "source": [
    "#Difference between means of predicted and actual values\n",
    "\n",
    "diff=abs(compiled_results['y_test'].mean()-compiled_results['results'].mean())\n",
    "print(f\"Difference between means={diff}\")"
   ]
  },
  {
   "cell_type": "code",
   "execution_count": 74,
   "metadata": {},
   "outputs": [],
   "source": [
    "#Save model\n",
    "\n",
    "model1.save('./model1_99.h5')"
   ]
  },
  {
   "cell_type": "code",
   "execution_count": 85,
   "metadata": {},
   "outputs": [
    {
     "data": {
      "text/html": [
       "<div>\n",
       "<style scoped>\n",
       "    .dataframe tbody tr th:only-of-type {\n",
       "        vertical-align: middle;\n",
       "    }\n",
       "\n",
       "    .dataframe tbody tr th {\n",
       "        vertical-align: top;\n",
       "    }\n",
       "\n",
       "    .dataframe thead th {\n",
       "        text-align: right;\n",
       "    }\n",
       "</style>\n",
       "<table border=\"1\" class=\"dataframe\">\n",
       "  <thead>\n",
       "    <tr style=\"text-align: right;\">\n",
       "      <th></th>\n",
       "      <th>y_test</th>\n",
       "      <th>results</th>\n",
       "      <th>abs_error</th>\n",
       "      <th>error</th>\n",
       "    </tr>\n",
       "  </thead>\n",
       "  <tbody>\n",
       "    <tr>\n",
       "      <td>900</td>\n",
       "      <td>410.0</td>\n",
       "      <td>490.374207</td>\n",
       "      <td>80.374206</td>\n",
       "      <td>-80.374206</td>\n",
       "    </tr>\n",
       "    <tr>\n",
       "      <td>1392</td>\n",
       "      <td>285.0</td>\n",
       "      <td>295.238342</td>\n",
       "      <td>10.238342</td>\n",
       "      <td>-10.238342</td>\n",
       "    </tr>\n",
       "    <tr>\n",
       "      <td>1421</td>\n",
       "      <td>380.0</td>\n",
       "      <td>438.223022</td>\n",
       "      <td>58.223022</td>\n",
       "      <td>-58.223022</td>\n",
       "    </tr>\n",
       "    <tr>\n",
       "      <td>1554</td>\n",
       "      <td>360.0</td>\n",
       "      <td>405.072601</td>\n",
       "      <td>45.072601</td>\n",
       "      <td>-45.072601</td>\n",
       "    </tr>\n",
       "    <tr>\n",
       "      <td>1903</td>\n",
       "      <td>295.0</td>\n",
       "      <td>308.964905</td>\n",
       "      <td>13.964905</td>\n",
       "      <td>-13.964905</td>\n",
       "    </tr>\n",
       "  </tbody>\n",
       "</table>\n",
       "</div>"
      ],
      "text/plain": [
       "      y_test     results  abs_error      error\n",
       "900    410.0  490.374207  80.374206 -80.374206\n",
       "1392   285.0  295.238342  10.238342 -10.238342\n",
       "1421   380.0  438.223022  58.223022 -58.223022\n",
       "1554   360.0  405.072601  45.072601 -45.072601\n",
       "1903   295.0  308.964905  13.964905 -13.964905"
      ]
     },
     "execution_count": 85,
     "metadata": {},
     "output_type": "execute_result"
    }
   ],
   "source": [
    "compiled_results[compiled_results['abs_error']>8]"
   ]
  },
  {
   "cell_type": "code",
   "execution_count": null,
   "metadata": {},
   "outputs": [],
   "source": []
  }
 ],
 "metadata": {
  "kernelspec": {
   "display_name": "Python 3",
   "language": "python",
   "name": "python3"
  },
  "language_info": {
   "codemirror_mode": {
    "name": "ipython",
    "version": 3
   },
   "file_extension": ".py",
   "mimetype": "text/x-python",
   "name": "python",
   "nbconvert_exporter": "python",
   "pygments_lexer": "ipython3",
   "version": "3.7.4"
  }
 },
 "nbformat": 4,
 "nbformat_minor": 2
}
