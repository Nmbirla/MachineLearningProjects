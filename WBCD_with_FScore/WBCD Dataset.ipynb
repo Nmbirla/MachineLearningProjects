{
 "cells": [
  {
   "cell_type": "code",
   "execution_count": 1,
   "metadata": {},
   "outputs": [],
   "source": [
    "import pandas as pd\n",
    "import numpy as np\n",
    "import matplotlib.pyplot as plt\n",
    "import seaborn as sns\n",
    "\n",
    "import matplotlib.style\n",
    "import matplotlib as mpl\n"
   ]
  },
  {
   "cell_type": "code",
   "execution_count": 2,
   "metadata": {},
   "outputs": [
    {
     "name": "stdout",
     "output_type": "stream",
     "text": [
      "(699, 11) \n",
      "\n",
      "Data types :\n",
      " id                               int64\n",
      "clump thickness                  int64\n",
      "uniformity of cell size          int64\n",
      "uniformity of cell shape         int64\n",
      "marginal adhesion                int64\n",
      "ingle epit helical cell size     int64\n",
      "bare nucleoi                    object\n",
      "bland chromatin                  int64\n",
      "normal nuclei                    int64\n",
      "mitoses                          int64\n",
      "diagnosis                        int64\n",
      "dtype: object \n",
      "\n",
      "column Names =  ['id', 'clump thickness', 'uniformity of cell size', 'uniformity of cell shape ', 'marginal adhesion', 'ingle epit helical cell size', 'bare nucleoi', 'bland chromatin', 'normal nuclei', 'mitoses', 'diagnosis'] \n",
      "\n"
     ]
    }
   ],
   "source": [
    "wbcd = pd.read_csv('./data/breast-cancer-wisconsin.data.csv')\n",
    "\n",
    "print(wbcd.shape,'\\n')\n",
    "\n",
    "wbcd['diagnosis'] = wbcd['diagnosis'].astype('int64')\n",
    "\n",
    "print('Data types :\\n', wbcd.dtypes,'\\n')\n",
    "\n",
    "col_names = list(wbcd.columns)\n",
    "print('column Names = ', col_names, '\\n')"
   ]
  },
  {
   "cell_type": "code",
   "execution_count": 3,
   "metadata": {},
   "outputs": [
    {
     "data": {
      "text/plain": [
       "(array([], dtype=int64), array([], dtype=int64))"
      ]
     },
     "execution_count": 3,
     "metadata": {},
     "output_type": "execute_result"
    }
   ],
   "source": [
    "np.where(wbcd.isnull())"
   ]
  },
  {
   "cell_type": "code",
   "execution_count": 4,
   "metadata": {},
   "outputs": [
    {
     "data": {
      "text/plain": [
       "id                              0\n",
       "clump thickness                 0\n",
       "uniformity of cell size         0\n",
       "uniformity of cell shape        0\n",
       "marginal adhesion               0\n",
       "ingle epit helical cell size    0\n",
       "bare nucleoi                    0\n",
       "bland chromatin                 0\n",
       "normal nuclei                   0\n",
       "mitoses                         0\n",
       "diagnosis                       0\n",
       "dtype: int64"
      ]
     },
     "execution_count": 4,
     "metadata": {},
     "output_type": "execute_result"
    }
   ],
   "source": [
    "# Check for missing values in dataframe\n",
    "wbcd.isnull().sum()"
   ]
  },
  {
   "cell_type": "code",
   "execution_count": 5,
   "metadata": {},
   "outputs": [
    {
     "data": {
      "text/plain": [
       "count     699\n",
       "unique     11\n",
       "top         1\n",
       "freq      402\n",
       "Name: bare nucleoi, dtype: object"
      ]
     },
     "execution_count": 5,
     "metadata": {},
     "output_type": "execute_result"
    }
   ],
   "source": [
    "wbcd['bare nucleoi'].describe()"
   ]
  },
  {
   "cell_type": "code",
   "execution_count": 6,
   "metadata": {},
   "outputs": [
    {
     "data": {
      "text/plain": [
       "1     402\n",
       "10    132\n",
       "5      30\n",
       "2      30\n",
       "3      28\n",
       "8      21\n",
       "4      19\n",
       "?      16\n",
       "9       9\n",
       "7       8\n",
       "6       4\n",
       "Name: bare nucleoi, dtype: int64"
      ]
     },
     "execution_count": 6,
     "metadata": {},
     "output_type": "execute_result"
    }
   ],
   "source": [
    "wbcd['bare nucleoi'].value_counts()"
   ]
  },
  {
   "cell_type": "code",
   "execution_count": 7,
   "metadata": {},
   "outputs": [
    {
     "data": {
      "text/html": [
       "<div>\n",
       "<style scoped>\n",
       "    .dataframe tbody tr th:only-of-type {\n",
       "        vertical-align: middle;\n",
       "    }\n",
       "\n",
       "    .dataframe tbody tr th {\n",
       "        vertical-align: top;\n",
       "    }\n",
       "\n",
       "    .dataframe thead th {\n",
       "        text-align: right;\n",
       "    }\n",
       "</style>\n",
       "<table border=\"1\" class=\"dataframe\">\n",
       "  <thead>\n",
       "    <tr style=\"text-align: right;\">\n",
       "      <th></th>\n",
       "      <th>id</th>\n",
       "      <th>clump thickness</th>\n",
       "      <th>uniformity of cell size</th>\n",
       "      <th>uniformity of cell shape</th>\n",
       "      <th>marginal adhesion</th>\n",
       "      <th>ingle epit helical cell size</th>\n",
       "      <th>bare nucleoi</th>\n",
       "      <th>bland chromatin</th>\n",
       "      <th>normal nuclei</th>\n",
       "      <th>mitoses</th>\n",
       "      <th>diagnosis</th>\n",
       "    </tr>\n",
       "  </thead>\n",
       "  <tbody>\n",
       "    <tr>\n",
       "      <td>23</td>\n",
       "      <td>1057013</td>\n",
       "      <td>8</td>\n",
       "      <td>4</td>\n",
       "      <td>5</td>\n",
       "      <td>1</td>\n",
       "      <td>2</td>\n",
       "      <td>?</td>\n",
       "      <td>7</td>\n",
       "      <td>3</td>\n",
       "      <td>1</td>\n",
       "      <td>4</td>\n",
       "    </tr>\n",
       "    <tr>\n",
       "      <td>40</td>\n",
       "      <td>1096800</td>\n",
       "      <td>6</td>\n",
       "      <td>6</td>\n",
       "      <td>6</td>\n",
       "      <td>9</td>\n",
       "      <td>6</td>\n",
       "      <td>?</td>\n",
       "      <td>7</td>\n",
       "      <td>8</td>\n",
       "      <td>1</td>\n",
       "      <td>2</td>\n",
       "    </tr>\n",
       "    <tr>\n",
       "      <td>139</td>\n",
       "      <td>1183246</td>\n",
       "      <td>1</td>\n",
       "      <td>1</td>\n",
       "      <td>1</td>\n",
       "      <td>1</td>\n",
       "      <td>1</td>\n",
       "      <td>?</td>\n",
       "      <td>2</td>\n",
       "      <td>1</td>\n",
       "      <td>1</td>\n",
       "      <td>2</td>\n",
       "    </tr>\n",
       "    <tr>\n",
       "      <td>145</td>\n",
       "      <td>1184840</td>\n",
       "      <td>1</td>\n",
       "      <td>1</td>\n",
       "      <td>3</td>\n",
       "      <td>1</td>\n",
       "      <td>2</td>\n",
       "      <td>?</td>\n",
       "      <td>2</td>\n",
       "      <td>1</td>\n",
       "      <td>1</td>\n",
       "      <td>2</td>\n",
       "    </tr>\n",
       "    <tr>\n",
       "      <td>158</td>\n",
       "      <td>1193683</td>\n",
       "      <td>1</td>\n",
       "      <td>1</td>\n",
       "      <td>2</td>\n",
       "      <td>1</td>\n",
       "      <td>3</td>\n",
       "      <td>?</td>\n",
       "      <td>1</td>\n",
       "      <td>1</td>\n",
       "      <td>1</td>\n",
       "      <td>2</td>\n",
       "    </tr>\n",
       "    <tr>\n",
       "      <td>164</td>\n",
       "      <td>1197510</td>\n",
       "      <td>5</td>\n",
       "      <td>1</td>\n",
       "      <td>1</td>\n",
       "      <td>1</td>\n",
       "      <td>2</td>\n",
       "      <td>?</td>\n",
       "      <td>3</td>\n",
       "      <td>1</td>\n",
       "      <td>1</td>\n",
       "      <td>2</td>\n",
       "    </tr>\n",
       "    <tr>\n",
       "      <td>235</td>\n",
       "      <td>1241232</td>\n",
       "      <td>3</td>\n",
       "      <td>1</td>\n",
       "      <td>4</td>\n",
       "      <td>1</td>\n",
       "      <td>2</td>\n",
       "      <td>?</td>\n",
       "      <td>3</td>\n",
       "      <td>1</td>\n",
       "      <td>1</td>\n",
       "      <td>2</td>\n",
       "    </tr>\n",
       "    <tr>\n",
       "      <td>249</td>\n",
       "      <td>169356</td>\n",
       "      <td>3</td>\n",
       "      <td>1</td>\n",
       "      <td>1</td>\n",
       "      <td>1</td>\n",
       "      <td>2</td>\n",
       "      <td>?</td>\n",
       "      <td>3</td>\n",
       "      <td>1</td>\n",
       "      <td>1</td>\n",
       "      <td>2</td>\n",
       "    </tr>\n",
       "    <tr>\n",
       "      <td>275</td>\n",
       "      <td>432809</td>\n",
       "      <td>3</td>\n",
       "      <td>1</td>\n",
       "      <td>3</td>\n",
       "      <td>1</td>\n",
       "      <td>2</td>\n",
       "      <td>?</td>\n",
       "      <td>2</td>\n",
       "      <td>1</td>\n",
       "      <td>1</td>\n",
       "      <td>2</td>\n",
       "    </tr>\n",
       "    <tr>\n",
       "      <td>292</td>\n",
       "      <td>563649</td>\n",
       "      <td>8</td>\n",
       "      <td>8</td>\n",
       "      <td>8</td>\n",
       "      <td>1</td>\n",
       "      <td>2</td>\n",
       "      <td>?</td>\n",
       "      <td>6</td>\n",
       "      <td>10</td>\n",
       "      <td>1</td>\n",
       "      <td>4</td>\n",
       "    </tr>\n",
       "    <tr>\n",
       "      <td>294</td>\n",
       "      <td>606140</td>\n",
       "      <td>1</td>\n",
       "      <td>1</td>\n",
       "      <td>1</td>\n",
       "      <td>1</td>\n",
       "      <td>2</td>\n",
       "      <td>?</td>\n",
       "      <td>2</td>\n",
       "      <td>1</td>\n",
       "      <td>1</td>\n",
       "      <td>2</td>\n",
       "    </tr>\n",
       "    <tr>\n",
       "      <td>297</td>\n",
       "      <td>61634</td>\n",
       "      <td>5</td>\n",
       "      <td>4</td>\n",
       "      <td>3</td>\n",
       "      <td>1</td>\n",
       "      <td>2</td>\n",
       "      <td>?</td>\n",
       "      <td>2</td>\n",
       "      <td>3</td>\n",
       "      <td>1</td>\n",
       "      <td>2</td>\n",
       "    </tr>\n",
       "    <tr>\n",
       "      <td>315</td>\n",
       "      <td>704168</td>\n",
       "      <td>4</td>\n",
       "      <td>6</td>\n",
       "      <td>5</td>\n",
       "      <td>6</td>\n",
       "      <td>7</td>\n",
       "      <td>?</td>\n",
       "      <td>4</td>\n",
       "      <td>9</td>\n",
       "      <td>1</td>\n",
       "      <td>2</td>\n",
       "    </tr>\n",
       "    <tr>\n",
       "      <td>321</td>\n",
       "      <td>733639</td>\n",
       "      <td>3</td>\n",
       "      <td>1</td>\n",
       "      <td>1</td>\n",
       "      <td>1</td>\n",
       "      <td>2</td>\n",
       "      <td>?</td>\n",
       "      <td>3</td>\n",
       "      <td>1</td>\n",
       "      <td>1</td>\n",
       "      <td>2</td>\n",
       "    </tr>\n",
       "    <tr>\n",
       "      <td>411</td>\n",
       "      <td>1238464</td>\n",
       "      <td>1</td>\n",
       "      <td>1</td>\n",
       "      <td>1</td>\n",
       "      <td>1</td>\n",
       "      <td>1</td>\n",
       "      <td>?</td>\n",
       "      <td>2</td>\n",
       "      <td>1</td>\n",
       "      <td>1</td>\n",
       "      <td>2</td>\n",
       "    </tr>\n",
       "    <tr>\n",
       "      <td>617</td>\n",
       "      <td>1057067</td>\n",
       "      <td>1</td>\n",
       "      <td>1</td>\n",
       "      <td>1</td>\n",
       "      <td>1</td>\n",
       "      <td>1</td>\n",
       "      <td>?</td>\n",
       "      <td>1</td>\n",
       "      <td>1</td>\n",
       "      <td>1</td>\n",
       "      <td>2</td>\n",
       "    </tr>\n",
       "  </tbody>\n",
       "</table>\n",
       "</div>"
      ],
      "text/plain": [
       "          id  clump thickness  uniformity of cell size  \\\n",
       "23   1057013                8                        4   \n",
       "40   1096800                6                        6   \n",
       "139  1183246                1                        1   \n",
       "145  1184840                1                        1   \n",
       "158  1193683                1                        1   \n",
       "164  1197510                5                        1   \n",
       "235  1241232                3                        1   \n",
       "249   169356                3                        1   \n",
       "275   432809                3                        1   \n",
       "292   563649                8                        8   \n",
       "294   606140                1                        1   \n",
       "297    61634                5                        4   \n",
       "315   704168                4                        6   \n",
       "321   733639                3                        1   \n",
       "411  1238464                1                        1   \n",
       "617  1057067                1                        1   \n",
       "\n",
       "     uniformity of cell shape   marginal adhesion  \\\n",
       "23                           5                  1   \n",
       "40                           6                  9   \n",
       "139                          1                  1   \n",
       "145                          3                  1   \n",
       "158                          2                  1   \n",
       "164                          1                  1   \n",
       "235                          4                  1   \n",
       "249                          1                  1   \n",
       "275                          3                  1   \n",
       "292                          8                  1   \n",
       "294                          1                  1   \n",
       "297                          3                  1   \n",
       "315                          5                  6   \n",
       "321                          1                  1   \n",
       "411                          1                  1   \n",
       "617                          1                  1   \n",
       "\n",
       "     ingle epit helical cell size bare nucleoi  bland chromatin  \\\n",
       "23                              2            ?                7   \n",
       "40                              6            ?                7   \n",
       "139                             1            ?                2   \n",
       "145                             2            ?                2   \n",
       "158                             3            ?                1   \n",
       "164                             2            ?                3   \n",
       "235                             2            ?                3   \n",
       "249                             2            ?                3   \n",
       "275                             2            ?                2   \n",
       "292                             2            ?                6   \n",
       "294                             2            ?                2   \n",
       "297                             2            ?                2   \n",
       "315                             7            ?                4   \n",
       "321                             2            ?                3   \n",
       "411                             1            ?                2   \n",
       "617                             1            ?                1   \n",
       "\n",
       "     normal nuclei  mitoses  diagnosis  \n",
       "23               3        1          4  \n",
       "40               8        1          2  \n",
       "139              1        1          2  \n",
       "145              1        1          2  \n",
       "158              1        1          2  \n",
       "164              1        1          2  \n",
       "235              1        1          2  \n",
       "249              1        1          2  \n",
       "275              1        1          2  \n",
       "292             10        1          4  \n",
       "294              1        1          2  \n",
       "297              3        1          2  \n",
       "315              9        1          2  \n",
       "321              1        1          2  \n",
       "411              1        1          2  \n",
       "617              1        1          2  "
      ]
     },
     "execution_count": 7,
     "metadata": {},
     "output_type": "execute_result"
    }
   ],
   "source": [
    "wbcd[wbcd['bare nucleoi'] == \"?\"]"
   ]
  },
  {
   "cell_type": "code",
   "execution_count": 8,
   "metadata": {},
   "outputs": [
    {
     "data": {
      "text/html": [
       "<div>\n",
       "<style scoped>\n",
       "    .dataframe tbody tr th:only-of-type {\n",
       "        vertical-align: middle;\n",
       "    }\n",
       "\n",
       "    .dataframe tbody tr th {\n",
       "        vertical-align: top;\n",
       "    }\n",
       "\n",
       "    .dataframe thead th {\n",
       "        text-align: right;\n",
       "    }\n",
       "</style>\n",
       "<table border=\"1\" class=\"dataframe\">\n",
       "  <thead>\n",
       "    <tr style=\"text-align: right;\">\n",
       "      <th></th>\n",
       "      <th>clump thickness</th>\n",
       "      <th>uniformity of cell size</th>\n",
       "      <th>uniformity of cell shape</th>\n",
       "      <th>marginal adhesion</th>\n",
       "      <th>ingle epit helical cell size</th>\n",
       "      <th>bare nucleoi</th>\n",
       "      <th>bland chromatin</th>\n",
       "      <th>normal nuclei</th>\n",
       "      <th>mitoses</th>\n",
       "      <th>diagnosis</th>\n",
       "    </tr>\n",
       "  </thead>\n",
       "  <tbody>\n",
       "    <tr>\n",
       "      <td>0</td>\n",
       "      <td>5</td>\n",
       "      <td>1</td>\n",
       "      <td>1</td>\n",
       "      <td>1</td>\n",
       "      <td>2</td>\n",
       "      <td>1</td>\n",
       "      <td>3</td>\n",
       "      <td>1</td>\n",
       "      <td>1</td>\n",
       "      <td>2</td>\n",
       "    </tr>\n",
       "    <tr>\n",
       "      <td>1</td>\n",
       "      <td>5</td>\n",
       "      <td>4</td>\n",
       "      <td>4</td>\n",
       "      <td>5</td>\n",
       "      <td>7</td>\n",
       "      <td>10</td>\n",
       "      <td>3</td>\n",
       "      <td>2</td>\n",
       "      <td>1</td>\n",
       "      <td>2</td>\n",
       "    </tr>\n",
       "    <tr>\n",
       "      <td>2</td>\n",
       "      <td>3</td>\n",
       "      <td>1</td>\n",
       "      <td>1</td>\n",
       "      <td>1</td>\n",
       "      <td>2</td>\n",
       "      <td>2</td>\n",
       "      <td>3</td>\n",
       "      <td>1</td>\n",
       "      <td>1</td>\n",
       "      <td>2</td>\n",
       "    </tr>\n",
       "    <tr>\n",
       "      <td>3</td>\n",
       "      <td>6</td>\n",
       "      <td>8</td>\n",
       "      <td>8</td>\n",
       "      <td>1</td>\n",
       "      <td>3</td>\n",
       "      <td>4</td>\n",
       "      <td>3</td>\n",
       "      <td>7</td>\n",
       "      <td>1</td>\n",
       "      <td>2</td>\n",
       "    </tr>\n",
       "    <tr>\n",
       "      <td>4</td>\n",
       "      <td>4</td>\n",
       "      <td>1</td>\n",
       "      <td>1</td>\n",
       "      <td>3</td>\n",
       "      <td>2</td>\n",
       "      <td>1</td>\n",
       "      <td>3</td>\n",
       "      <td>1</td>\n",
       "      <td>1</td>\n",
       "      <td>2</td>\n",
       "    </tr>\n",
       "  </tbody>\n",
       "</table>\n",
       "</div>"
      ],
      "text/plain": [
       "   clump thickness  uniformity of cell size  uniformity of cell shape   \\\n",
       "0                5                        1                          1   \n",
       "1                5                        4                          4   \n",
       "2                3                        1                          1   \n",
       "3                6                        8                          8   \n",
       "4                4                        1                          1   \n",
       "\n",
       "   marginal adhesion  ingle epit helical cell size bare nucleoi  \\\n",
       "0                  1                             2            1   \n",
       "1                  5                             7           10   \n",
       "2                  1                             2            2   \n",
       "3                  1                             3            4   \n",
       "4                  3                             2            1   \n",
       "\n",
       "   bland chromatin  normal nuclei  mitoses  diagnosis  \n",
       "0                3              1        1          2  \n",
       "1                3              2        1          2  \n",
       "2                3              1        1          2  \n",
       "3                3              7        1          2  \n",
       "4                3              1        1          2  "
      ]
     },
     "execution_count": 8,
     "metadata": {},
     "output_type": "execute_result"
    }
   ],
   "source": [
    "# Data cleaning, drop unnecessary columns id and Unnamed: 32\n",
    "wbcd.drop(['id'], axis = 1, inplace = True)\n",
    "\n",
    "wbcd.head()"
   ]
  },
  {
   "cell_type": "code",
   "execution_count": 9,
   "metadata": {},
   "outputs": [
    {
     "data": {
      "text/plain": [
       "2    458\n",
       "4    241\n",
       "Name: diagnosis, dtype: int64"
      ]
     },
     "execution_count": 9,
     "metadata": {},
     "output_type": "execute_result"
    }
   ],
   "source": [
    "wbcd['diagnosis'].value_counts()"
   ]
  },
  {
   "cell_type": "code",
   "execution_count": 10,
   "metadata": {},
   "outputs": [],
   "source": [
    "wbcd['bare nucleoi'].replace(\"?\", np.NAN, inplace=True)\n",
    "wbcd = wbcd.dropna()"
   ]
  },
  {
   "cell_type": "code",
   "execution_count": 11,
   "metadata": {},
   "outputs": [],
   "source": [
    "wbcd['bare nucleoi'] = wbcd['bare nucleoi'].astype('int64')"
   ]
  },
  {
   "cell_type": "code",
   "execution_count": 12,
   "metadata": {},
   "outputs": [
    {
     "data": {
      "text/plain": [
       "pandas.core.frame.DataFrame"
      ]
     },
     "execution_count": 12,
     "metadata": {},
     "output_type": "execute_result"
    }
   ],
   "source": [
    "type(wbcd)"
   ]
  },
  {
   "cell_type": "code",
   "execution_count": 13,
   "metadata": {},
   "outputs": [
    {
     "data": {
      "text/plain": [
       "0      2\n",
       "1      2\n",
       "2      2\n",
       "3      2\n",
       "4      2\n",
       "      ..\n",
       "694    2\n",
       "695    2\n",
       "696    4\n",
       "697    4\n",
       "698    4\n",
       "Name: diagnosis, Length: 683, dtype: int64"
      ]
     },
     "execution_count": 13,
     "metadata": {},
     "output_type": "execute_result"
    }
   ],
   "source": [
    "wbcd['diagnosis']"
   ]
  },
  {
   "cell_type": "code",
   "execution_count": 14,
   "metadata": {},
   "outputs": [
    {
     "data": {
      "text/plain": [
       "1     402\n",
       "10    132\n",
       "5      30\n",
       "2      30\n",
       "3      28\n",
       "8      21\n",
       "4      19\n",
       "9       9\n",
       "7       8\n",
       "6       4\n",
       "Name: bare nucleoi, dtype: int64"
      ]
     },
     "execution_count": 14,
     "metadata": {},
     "output_type": "execute_result"
    }
   ],
   "source": [
    "wbcd['bare nucleoi'].value_counts()"
   ]
  },
  {
   "cell_type": "code",
   "execution_count": 15,
   "metadata": {},
   "outputs": [],
   "source": [
    "wbcd['diagnosis'] = wbcd['diagnosis']/2-1"
   ]
  },
  {
   "cell_type": "code",
   "execution_count": 16,
   "metadata": {},
   "outputs": [
    {
     "data": {
      "text/plain": [
       "0.0    444\n",
       "1.0    239\n",
       "Name: diagnosis, dtype: int64"
      ]
     },
     "execution_count": 16,
     "metadata": {},
     "output_type": "execute_result"
    }
   ],
   "source": [
    "wbcd['diagnosis'].value_counts()"
   ]
  },
  {
   "cell_type": "code",
   "execution_count": 17,
   "metadata": {},
   "outputs": [],
   "source": [
    "X = wbcd.drop(['diagnosis'], axis =1)\n",
    "X_col = X.columns"
   ]
  },
  {
   "cell_type": "markdown",
   "metadata": {},
   "source": [
    "### F-Score"
   ]
  },
  {
   "cell_type": "code",
   "execution_count": 18,
   "metadata": {},
   "outputs": [],
   "source": [
    "# Split data in 70-30 partition\n",
    "from sklearn.model_selection import train_test_split\n",
    "X_train, X_test, y_train, y_test = train_test_split(wbcd, wbcd['diagnosis'], test_size = 0.3, random_state = 99)"
   ]
  },
  {
   "cell_type": "code",
   "execution_count": 19,
   "metadata": {},
   "outputs": [
    {
     "data": {
      "text/html": [
       "<div>\n",
       "<style scoped>\n",
       "    .dataframe tbody tr th:only-of-type {\n",
       "        vertical-align: middle;\n",
       "    }\n",
       "\n",
       "    .dataframe tbody tr th {\n",
       "        vertical-align: top;\n",
       "    }\n",
       "\n",
       "    .dataframe thead th {\n",
       "        text-align: right;\n",
       "    }\n",
       "</style>\n",
       "<table border=\"1\" class=\"dataframe\">\n",
       "  <thead>\n",
       "    <tr style=\"text-align: right;\">\n",
       "      <th></th>\n",
       "      <th>clump thickness</th>\n",
       "      <th>uniformity of cell size</th>\n",
       "      <th>uniformity of cell shape</th>\n",
       "      <th>marginal adhesion</th>\n",
       "      <th>ingle epit helical cell size</th>\n",
       "      <th>bare nucleoi</th>\n",
       "      <th>bland chromatin</th>\n",
       "      <th>normal nuclei</th>\n",
       "      <th>mitoses</th>\n",
       "      <th>diagnosis</th>\n",
       "    </tr>\n",
       "  </thead>\n",
       "  <tbody>\n",
       "    <tr>\n",
       "      <td>533</td>\n",
       "      <td>3</td>\n",
       "      <td>1</td>\n",
       "      <td>1</td>\n",
       "      <td>1</td>\n",
       "      <td>2</td>\n",
       "      <td>1</td>\n",
       "      <td>2</td>\n",
       "      <td>1</td>\n",
       "      <td>1</td>\n",
       "      <td>0.0</td>\n",
       "    </tr>\n",
       "    <tr>\n",
       "      <td>330</td>\n",
       "      <td>10</td>\n",
       "      <td>4</td>\n",
       "      <td>7</td>\n",
       "      <td>2</td>\n",
       "      <td>2</td>\n",
       "      <td>8</td>\n",
       "      <td>6</td>\n",
       "      <td>1</td>\n",
       "      <td>1</td>\n",
       "      <td>1.0</td>\n",
       "    </tr>\n",
       "    <tr>\n",
       "      <td>228</td>\n",
       "      <td>1</td>\n",
       "      <td>1</td>\n",
       "      <td>1</td>\n",
       "      <td>1</td>\n",
       "      <td>1</td>\n",
       "      <td>1</td>\n",
       "      <td>3</td>\n",
       "      <td>1</td>\n",
       "      <td>1</td>\n",
       "      <td>0.0</td>\n",
       "    </tr>\n",
       "    <tr>\n",
       "      <td>290</td>\n",
       "      <td>1</td>\n",
       "      <td>1</td>\n",
       "      <td>1</td>\n",
       "      <td>1</td>\n",
       "      <td>2</td>\n",
       "      <td>1</td>\n",
       "      <td>1</td>\n",
       "      <td>1</td>\n",
       "      <td>1</td>\n",
       "      <td>0.0</td>\n",
       "    </tr>\n",
       "    <tr>\n",
       "      <td>629</td>\n",
       "      <td>4</td>\n",
       "      <td>1</td>\n",
       "      <td>1</td>\n",
       "      <td>1</td>\n",
       "      <td>2</td>\n",
       "      <td>1</td>\n",
       "      <td>1</td>\n",
       "      <td>1</td>\n",
       "      <td>1</td>\n",
       "      <td>0.0</td>\n",
       "    </tr>\n",
       "    <tr>\n",
       "      <td>...</td>\n",
       "      <td>...</td>\n",
       "      <td>...</td>\n",
       "      <td>...</td>\n",
       "      <td>...</td>\n",
       "      <td>...</td>\n",
       "      <td>...</td>\n",
       "      <td>...</td>\n",
       "      <td>...</td>\n",
       "      <td>...</td>\n",
       "      <td>...</td>\n",
       "    </tr>\n",
       "    <tr>\n",
       "      <td>70</td>\n",
       "      <td>5</td>\n",
       "      <td>1</td>\n",
       "      <td>3</td>\n",
       "      <td>1</td>\n",
       "      <td>2</td>\n",
       "      <td>1</td>\n",
       "      <td>2</td>\n",
       "      <td>1</td>\n",
       "      <td>1</td>\n",
       "      <td>0.0</td>\n",
       "    </tr>\n",
       "    <tr>\n",
       "      <td>174</td>\n",
       "      <td>8</td>\n",
       "      <td>6</td>\n",
       "      <td>5</td>\n",
       "      <td>4</td>\n",
       "      <td>3</td>\n",
       "      <td>10</td>\n",
       "      <td>6</td>\n",
       "      <td>1</td>\n",
       "      <td>1</td>\n",
       "      <td>1.0</td>\n",
       "    </tr>\n",
       "    <tr>\n",
       "      <td>191</td>\n",
       "      <td>7</td>\n",
       "      <td>5</td>\n",
       "      <td>10</td>\n",
       "      <td>10</td>\n",
       "      <td>10</td>\n",
       "      <td>10</td>\n",
       "      <td>4</td>\n",
       "      <td>10</td>\n",
       "      <td>3</td>\n",
       "      <td>1.0</td>\n",
       "    </tr>\n",
       "    <tr>\n",
       "      <td>36</td>\n",
       "      <td>10</td>\n",
       "      <td>10</td>\n",
       "      <td>10</td>\n",
       "      <td>8</td>\n",
       "      <td>6</td>\n",
       "      <td>1</td>\n",
       "      <td>8</td>\n",
       "      <td>9</td>\n",
       "      <td>1</td>\n",
       "      <td>1.0</td>\n",
       "    </tr>\n",
       "    <tr>\n",
       "      <td>657</td>\n",
       "      <td>5</td>\n",
       "      <td>4</td>\n",
       "      <td>5</td>\n",
       "      <td>1</td>\n",
       "      <td>8</td>\n",
       "      <td>1</td>\n",
       "      <td>3</td>\n",
       "      <td>6</td>\n",
       "      <td>1</td>\n",
       "      <td>0.0</td>\n",
       "    </tr>\n",
       "  </tbody>\n",
       "</table>\n",
       "<p>478 rows × 10 columns</p>\n",
       "</div>"
      ],
      "text/plain": [
       "     clump thickness  uniformity of cell size  uniformity of cell shape   \\\n",
       "533                3                        1                          1   \n",
       "330               10                        4                          7   \n",
       "228                1                        1                          1   \n",
       "290                1                        1                          1   \n",
       "629                4                        1                          1   \n",
       "..               ...                      ...                        ...   \n",
       "70                 5                        1                          3   \n",
       "174                8                        6                          5   \n",
       "191                7                        5                         10   \n",
       "36                10                       10                         10   \n",
       "657                5                        4                          5   \n",
       "\n",
       "     marginal adhesion  ingle epit helical cell size  bare nucleoi  \\\n",
       "533                  1                             2             1   \n",
       "330                  2                             2             8   \n",
       "228                  1                             1             1   \n",
       "290                  1                             2             1   \n",
       "629                  1                             2             1   \n",
       "..                 ...                           ...           ...   \n",
       "70                   1                             2             1   \n",
       "174                  4                             3            10   \n",
       "191                 10                            10            10   \n",
       "36                   8                             6             1   \n",
       "657                  1                             8             1   \n",
       "\n",
       "     bland chromatin  normal nuclei  mitoses  diagnosis  \n",
       "533                2              1        1        0.0  \n",
       "330                6              1        1        1.0  \n",
       "228                3              1        1        0.0  \n",
       "290                1              1        1        0.0  \n",
       "629                1              1        1        0.0  \n",
       "..               ...            ...      ...        ...  \n",
       "70                 2              1        1        0.0  \n",
       "174                6              1        1        1.0  \n",
       "191                4             10        3        1.0  \n",
       "36                 8              9        1        1.0  \n",
       "657                3              6        1        0.0  \n",
       "\n",
       "[478 rows x 10 columns]"
      ]
     },
     "execution_count": 19,
     "metadata": {},
     "output_type": "execute_result"
    }
   ],
   "source": [
    "X_train"
   ]
  },
  {
   "cell_type": "code",
   "execution_count": 20,
   "metadata": {},
   "outputs": [],
   "source": [
    "Xtrain_p = X_train[y_train == 1]\n",
    "Xtrain_n = X_train[y_train == 0]"
   ]
  },
  {
   "cell_type": "code",
   "execution_count": 21,
   "metadata": {},
   "outputs": [
    {
     "name": "stdout",
     "output_type": "stream",
     "text": [
      "train malignant (n+): 176\n",
      "train benign (n-): 302\n"
     ]
    }
   ],
   "source": [
    "n_pos = Xtrain_p.shape[0]\n",
    "\n",
    "n_neg = Xtrain_n.shape[0]\n",
    "\n",
    "print('train malignant (n+):', n_pos)\n",
    "\n",
    "print('train benign (n-):', n_neg)"
   ]
  },
  {
   "cell_type": "code",
   "execution_count": 22,
   "metadata": {},
   "outputs": [
    {
     "name": "stdout",
     "output_type": "stream",
     "text": [
      "x_mean :\n",
      " clump thickness                 4.525105\n",
      "uniformity of cell size         3.284519\n",
      "uniformity of cell shape        3.301255\n",
      "marginal adhesion               2.926778\n",
      "ingle epit helical cell size    3.357741\n",
      "bare nucleoi                    3.675732\n",
      "bland chromatin                 3.510460\n",
      "normal nuclei                   3.006276\n",
      "mitoses                         1.677824\n",
      "diagnosis                       0.368201\n",
      "dtype: float64 \n",
      "\n",
      "x+_mean :\n",
      " clump thickness                 7.312500\n",
      "uniformity of cell size         6.681818\n",
      "uniformity of cell shape        6.517045\n",
      "marginal adhesion               5.698864\n",
      "ingle epit helical cell size    5.477273\n",
      "bare nucleoi                    7.619318\n",
      "bland chromatin                 6.034091\n",
      "normal nuclei                   5.994318\n",
      "mitoses                         2.744318\n",
      "diagnosis                       1.000000\n",
      "dtype: float64 \n",
      "\n",
      "x-_mean :\n",
      " clump thickness                 2.900662\n",
      "uniformity of cell size         1.304636\n",
      "uniformity of cell shape        1.427152\n",
      "marginal adhesion               1.311258\n",
      "ingle epit helical cell size    2.122517\n",
      "bare nucleoi                    1.377483\n",
      "bland chromatin                 2.039735\n",
      "normal nuclei                   1.264901\n",
      "mitoses                         1.056291\n",
      "diagnosis                       0.000000\n",
      "dtype: float64 \n",
      "\n"
     ]
    }
   ],
   "source": [
    "x_mean = X_train.mean()\n",
    "xp_mean = Xtrain_p.mean()\n",
    "xn_mean = Xtrain_n.mean()\n",
    "print('x_mean :\\n',x_mean,'\\n')\n",
    "print('x+_mean :\\n',xp_mean,'\\n')\n",
    "print('x-_mean :\\n',xn_mean,'\\n')"
   ]
  },
  {
   "cell_type": "code",
   "execution_count": 23,
   "metadata": {},
   "outputs": [],
   "source": [
    "# FS_num = []\n",
    "# FS_deno = []\n",
    "F_Score = np.zeros(len(X_col))\n",
    "\n",
    "for i in range(len(X_col)):     \n",
    "    \n",
    "    FS_num = (xp_mean[i] - x_mean[i])**2 + (xn_mean[i] - x_mean[i])**2\n",
    "\n",
    "    FS_den = (sum((Xtrain_p[X_col[i]] - xp_mean[i])**2))/(n_pos-1) + (sum((Xtrain_n[X_col[i]]-xn_mean[i])**2))/(n_neg-1)\n",
    "\n",
    "    F_Score[i] = FS_num/FS_den"
   ]
  },
  {
   "cell_type": "code",
   "execution_count": 24,
   "metadata": {},
   "outputs": [
    {
     "data": {
      "text/plain": [
       "array([1.22293035, 1.89162361, 1.81917242, 0.91588744, 0.84851828,\n",
       "       1.84496068, 1.47347907, 0.98985937, 0.20133574])"
      ]
     },
     "execution_count": 24,
     "metadata": {},
     "output_type": "execute_result"
    }
   ],
   "source": [
    "F_Score"
   ]
  },
  {
   "cell_type": "code",
   "execution_count": 25,
   "metadata": {},
   "outputs": [
    {
     "data": {
      "text/plain": [
       "array([2, 6, 3, 7, 1, 8, 4, 5, 9], dtype=int64)"
      ]
     },
     "execution_count": 25,
     "metadata": {},
     "output_type": "execute_result"
    }
   ],
   "source": [
    "np.argsort(F_Score)[::-1]+1"
   ]
  },
  {
   "cell_type": "markdown",
   "metadata": {},
   "source": [
    "## Models"
   ]
  },
  {
   "cell_type": "code",
   "execution_count": 26,
   "metadata": {},
   "outputs": [],
   "source": [
    "from sklearn.neighbors import KNeighborsClassifier"
   ]
  },
  {
   "cell_type": "code",
   "execution_count": 27,
   "metadata": {},
   "outputs": [
    {
     "name": "stdout",
     "output_type": "stream",
     "text": [
      "k= 1 ; Mean accuracy 0.967 ;Std: 0.017\n",
      "k= 3 ; Mean accuracy 0.973 ;Std: 0.014\n",
      "k= 5 ; Mean accuracy 0.971 ;Std: 0.02\n",
      "k= 7 ; Mean accuracy 0.967 ;Std: 0.021\n",
      "k= 9 ; Mean accuracy 0.971 ;Std: 0.014\n",
      "k= 11 ; Mean accuracy 0.971 ;Std: 0.014\n",
      "k= 13 ; Mean accuracy 0.969 ;Std: 0.015\n",
      "k= 15 ; Mean accuracy 0.967 ;Std: 0.017\n",
      "k= 17 ; Mean accuracy 0.967 ;Std: 0.017\n",
      "k= 19 ; Mean accuracy 0.967 ;Std: 0.017\n",
      "k= 21 ; Mean accuracy 0.969 ;Std: 0.018\n",
      "k= 23 ; Mean accuracy 0.969 ;Std: 0.018\n",
      "k= 25 ; Mean accuracy 0.969 ;Std: 0.018\n",
      "k= 27 ; Mean accuracy 0.969 ;Std: 0.018\n",
      "k= 29 ; Mean accuracy 0.969 ;Std: 0.018\n",
      "k= 31 ; Mean accuracy 0.969 ;Std: 0.018\n",
      "k= 33 ; Mean accuracy 0.969 ;Std: 0.018\n",
      "k= 35 ; Mean accuracy 0.967 ;Std: 0.017\n",
      "k= 37 ; Mean accuracy 0.969 ;Std: 0.018\n",
      "k= 39 ; Mean accuracy 0.969 ;Std: 0.018\n"
     ]
    }
   ],
   "source": [
    "from sklearn.model_selection import cross_val_score\n",
    "\n",
    "for k in range(1, 40, 2):\n",
    "    # only odd numbers\n",
    "    knn = KNeighborsClassifier(n_neighbors = k, weights='distance')\n",
    "    score = cross_val_score(knn, X_train, y_train, cv =5) #scoring = 'accuracy'\n",
    "    print('k=', k, '; Mean accuracy', score.mean().round(3), ';Std:', score.std().round(3))"
   ]
  },
  {
   "cell_type": "markdown",
   "metadata": {},
   "source": [
    "\n",
    "#### Chosen parameter k = 9"
   ]
  },
  {
   "cell_type": "code",
   "execution_count": 37,
   "metadata": {
    "scrolled": false
   },
   "outputs": [
    {
     "name": "stdout",
     "output_type": "stream",
     "text": [
      "\n",
      "Model number:  1\n",
      "                 predict: Benign  predict: Malignant\n",
      "true: Benign                 131                  11\n",
      "true: Malignant                1                  62\n",
      "\n",
      "Model number:  2\n",
      "                 predict: Benign  predict: Malignant\n",
      "true: Benign                 138                   4\n",
      "true: Malignant                5                  58\n",
      "\n",
      "Model number:  3\n",
      "                 predict: Benign  predict: Malignant\n",
      "true: Benign                 139                   3\n",
      "true: Malignant                4                  59\n",
      "\n",
      "Model number:  4\n",
      "                 predict: Benign  predict: Malignant\n",
      "true: Benign                 137                   5\n",
      "true: Malignant                5                  58\n",
      "\n",
      "Model number:  5\n",
      "                 predict: Benign  predict: Malignant\n",
      "true: Benign                 138                   4\n",
      "true: Malignant                3                  60\n",
      "\n",
      "Model number:  6\n",
      "                 predict: Benign  predict: Malignant\n",
      "true: Benign                 139                   3\n",
      "true: Malignant                4                  59\n",
      "\n",
      "Model number:  7\n",
      "                 predict: Benign  predict: Malignant\n",
      "true: Benign                 139                   3\n",
      "true: Malignant                5                  58\n",
      "\n",
      "Model number:  8\n",
      "                 predict: Benign  predict: Malignant\n",
      "true: Benign                 139                   3\n",
      "true: Malignant                5                  58\n",
      "\n",
      "Model number:  9\n",
      "                 predict: Benign  predict: Malignant\n",
      "true: Benign                 139                   3\n",
      "true: Malignant                5                  58\n",
      "  K-NN    Log-Reg      NN\n",
      "------  ---------  ------\n",
      "0.9415     0.9317  0.9317\n",
      "0.9561     0.9463  0.961\n",
      "0.9659     0.9561  0.9561\n",
      "0.9512     0.9512  0.9317\n",
      "0.9659     0.9463  0.9415\n",
      "0.9659     0.9512  0.9512\n",
      "0.961      0.9512  0.9512\n",
      "0.961      0.9512  0.961\n",
      "0.961      0.9512  0.9415\n"
     ]
    }
   ],
   "source": [
    "from sklearn import metrics\n",
    "from sklearn.linear_model import LogisticRegression\n",
    "from sklearn.neural_network import MLPClassifier\n",
    "\n",
    "\n",
    "KNN_score = []\n",
    "lr_score = []\n",
    "NN_score = []\n",
    "model_seq = np.array([2, 6, 3, 7, 1, 8, 4, 5, 9])-1\n",
    "\n",
    "for i in range(len(model_seq)):\n",
    "    print('\\nModel number: ', i+1)\n",
    "    xM_train=X_train[X_col[model_seq[0:i+1]]]\n",
    "    xM_test=X_test[X_col[model_seq[0:i+1]]]\n",
    "    # K-NN method\n",
    "    knn = KNeighborsClassifier(n_neighbors = 9, weights='distance')\n",
    "    knn.fit(xM_train,y_train)\n",
    "    y_knn_pred = knn.predict(xM_test)\n",
    "    mscore=  metrics.accuracy_score(y_test, y_knn_pred).round(4)\n",
    "    KNN_score.append(mscore)\n",
    "#     print('metric score for KNN = ', mscore)\n",
    "    cm = metrics.confusion_matrix(y_test, y_knn_pred)\n",
    "    wbcd_cm = pd.DataFrame(data = cm, columns = ['predict: Benign', 'predict: Malignant'], \n",
    "                    index = ['true: Benign', 'true: Malignant'])\n",
    "\n",
    "    print(wbcd_cm)\n",
    "    \n",
    "    # Logistic Regression method\n",
    "    lr = LogisticRegression(solver='lbfgs') #instantiate the model-step 1\n",
    "    lr.fit(xM_train,y_train)\n",
    "    y_lr_pred = lr.predict(xM_test)\n",
    "    m_score=  metrics.accuracy_score(y_test, y_lr_pred).round(4)\n",
    "    lr_score.append(m_score)\n",
    "#     print('metric score for lr = ', m_score)\n",
    "    \n",
    "    # Neural Network\n",
    "    clf = MLPClassifier(solver='lbfgs', alpha=1e-3, hidden_layer_sizes=(5, 5, 5, 5))\n",
    "    clf.fit(xM_train, y_train)\n",
    "    y_NN_pred = clf.predict(xM_test)\n",
    "    m_NN_score=  metrics.accuracy_score(y_test, y_NN_pred).round(4)\n",
    "    NN_score.append(m_NN_score)\n",
    "#     print('metric score for NN = ',m_NN_score)\n",
    "\n",
    "\n",
    "from tabulate import tabulate\n",
    "print(tabulate(np.transpose([KNN_score, lr_score, NN_score]), headers=['K-NN', 'Log-Reg', 'NN']))"
   ]
  },
  {
   "cell_type": "code",
   "execution_count": 29,
   "metadata": {},
   "outputs": [],
   "source": [
    "# xM5_train = X_train[X_col[model_seq[0:5+1]]]\n",
    "# xM5_test = X_test[X_col[model_seq[0:5+1]]]\n",
    "# knn = KNeighborsClassifier(n_neighbors = 9, weights='distance')\n",
    "# knn.fit(xM5_train,y_train)\n",
    "# y_pred = knn.predict(xM5_test)\n",
    "# cm = metrics.confusion_matrix(y_test, y_pred)\n",
    "# cm"
   ]
  },
  {
   "cell_type": "code",
   "execution_count": 30,
   "metadata": {
    "scrolled": true
   },
   "outputs": [],
   "source": [
    "# import statsmodels.formula.api as smf\n",
    "# result = smf.ols(formula = 'np.log(sales) ~ TV', data = wbcd).fit()\n",
    "# print(result.summary())"
   ]
  },
  {
   "cell_type": "code",
   "execution_count": 31,
   "metadata": {},
   "outputs": [],
   "source": [
    "# from sklearn.linear_model import LogisticRegression"
   ]
  },
  {
   "cell_type": "code",
   "execution_count": 32,
   "metadata": {},
   "outputs": [],
   "source": [
    "# lr = LogisticRegression(solver='lbfgs') #instantiate the model-step 1\n",
    "\n",
    "# xM_train=X_train[X_col[model_seq[0:1+1]]]\n",
    "# xM_test=X_test[X_col[model_seq[0:1+1]]]\n",
    "    \n",
    "# lr.fit(xM_train,y_train)\n",
    "\n",
    "# y_pred = lr.predict(xM_test)\n",
    "\n",
    "# m_score=  metrics.accuracy_score(y_test, y_pred).round(4)\n",
    "\n",
    "# print(m_score)"
   ]
  },
  {
   "cell_type": "code",
   "execution_count": 33,
   "metadata": {},
   "outputs": [],
   "source": [
    "# from sklearn.neural_network import MLPClassifier\n",
    "# clf = MLPClassifier(solver='lbfgs', alpha=1e-3, hidden_layer_sizes=(5, 2))\n",
    "\n",
    "# xM_train=X_train[X_col[model_seq[0:2+1]]]\n",
    "# xM_test=X_test[X_col[model_seq[0:2+1]]]\n",
    "\n",
    "# clf.fit(xM_train, y_train)"
   ]
  },
  {
   "cell_type": "code",
   "execution_count": 34,
   "metadata": {},
   "outputs": [],
   "source": [
    "# y_pred = clf.predict(xM_test)\n",
    "# m_score=  metrics.accuracy_score(y_test, y_pred).round(4)\n",
    "# print(m_score)"
   ]
  }
 ],
 "metadata": {
  "kernelspec": {
   "display_name": "Python 3",
   "language": "python",
   "name": "python3"
  },
  "language_info": {
   "codemirror_mode": {
    "name": "ipython",
    "version": 3
   },
   "file_extension": ".py",
   "mimetype": "text/x-python",
   "name": "python",
   "nbconvert_exporter": "python",
   "pygments_lexer": "ipython3",
   "version": "3.7.4"
  }
 },
 "nbformat": 4,
 "nbformat_minor": 2
}
